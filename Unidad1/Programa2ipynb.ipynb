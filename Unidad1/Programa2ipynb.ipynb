{
  "nbformat": 4,
  "nbformat_minor": 0,
  "metadata": {
    "colab": {
      "provenance": [],
      "authorship_tag": "ABX9TyPEFw3VHq9H346AjHO/mrIv",
      "include_colab_link": true
    },
    "kernelspec": {
      "name": "python3",
      "display_name": "Python 3"
    },
    "language_info": {
      "name": "python"
    }
  },
  "cells": [
    {
      "cell_type": "markdown",
      "metadata": {
        "id": "view-in-github",
        "colab_type": "text"
      },
      "source": [
        "<a href=\"https://colab.research.google.com/github/PabloLarreta17/ProgramacionOO/blob/main/Unidad1/Programa2ipynb.ipynb\" target=\"_parent\"><img src=\"https://colab.research.google.com/assets/colab-badge.svg\" alt=\"Open In Colab\"/></a>"
      ]
    },
    {
      "cell_type": "markdown",
      "source": [
        "# **Programación Orientada a Objetos**\n",
        "## **Unidad 1. Programa 2**\n",
        "### **Maestro: Jose Gabriel Rodriguez Rivas**\n",
        "### **Alumno: Pablo Larreta Mijares**"
      ],
      "metadata": {
        "id": "GAbtkbzar5-R"
      }
    },
    {
      "cell_type": "code",
      "execution_count": null,
      "metadata": {
        "id": "Jr3s-VffgYLM"
      },
      "outputs": [],
      "source": [
        "##CREAR UNA CLASE LIBRE PARA OBJETOS\n",
        "## _init es un metodo especial llamado constructor\n",
        "class Libro:\n",
        "  def __init__(self, titulo, autor, isbn, precio): #Constructor de clase\n",
        "   self.titulo = titulo\n",
        "   self.autor = autor\n",
        "   self.isbn = isbn\n",
        "   self.precio = precio\n",
        "\n",
        "  def mostrar_info(self):  #Metodo\n",
        "    return f\"{self.titulo} por {self.autor} -ISBN: {self.isbn}, Precio ${self.precio}\""
      ]
    },
    {
      "cell_type": "code",
      "source": [
        "##crear 2 instancias concreta una clase\n",
        "\n",
        "libro1 = Libro(\"Cien años de soledad\", \"Gabriel García Márquez\", \"9780307474728\", 350.00)\n",
        "\n",
        "libro2 = Libro(\"1984\", \"George Orwell\", \"9780451524935\", 220.50)"
      ],
      "metadata": {
        "id": "j8smFadWkJm8"
      },
      "execution_count": null,
      "outputs": []
    },
    {
      "cell_type": "code",
      "source": [
        "print(libro1.mostrar_info())\n",
        "print(libro2.mostrar_info())"
      ],
      "metadata": {
        "colab": {
          "base_uri": "https://localhost:8080/"
        },
        "id": "KiRFsVFmlWys",
        "outputId": "5c188bfc-6c19-4e8c-cfd9-25ad029e2d95"
      },
      "execution_count": null,
      "outputs": [
        {
          "output_type": "stream",
          "name": "stdout",
          "text": [
            "Cien años de soledad por Gabriel García Márquez -ISBN: 9780307474728, Precio $350.0\n",
            "1984 por George Orwell -ISBN: 9780451524935, Precio $220.5\n"
          ]
        }
      ]
    }
  ]
}
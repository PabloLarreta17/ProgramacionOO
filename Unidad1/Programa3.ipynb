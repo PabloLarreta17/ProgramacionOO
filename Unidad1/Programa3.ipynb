{
  "nbformat": 4,
  "nbformat_minor": 0,
  "metadata": {
    "colab": {
      "provenance": [],
      "include_colab_link": true
    },
    "kernelspec": {
      "name": "python3",
      "display_name": "Python 3"
    },
    "language_info": {
      "name": "python"
    }
  },
  "cells": [
    {
      "cell_type": "markdown",
      "metadata": {
        "id": "view-in-github",
        "colab_type": "text"
      },
      "source": [
        "<a href=\"https://colab.research.google.com/github/PabloLarreta17/ProgramacionOO/blob/main/Unidad1/Programa3.ipynb\" target=\"_parent\"><img src=\"https://colab.research.google.com/assets/colab-badge.svg\" alt=\"Open In Colab\"/></a>"
      ]
    },
    {
      "cell_type": "code",
      "execution_count": null,
      "metadata": {
        "id": "UE6wi-ALzGhJ"
      },
      "outputs": [],
      "source": [
        "##CLASE PRESTAMO TABLA 1\n",
        "class Prestamo:\n",
        "  def __init__(self, prestamo, libro, cliente, fecha_inicio,fecha_devolucion,renovar_prestamo): #Constructor de clase\n",
        "   self.prestamo = prestamo\n",
        "   self.libro = libro\n",
        "   self.cliente = cliente\n",
        "   self.fecha_inicio = fecha_inicio\n",
        "   self.fecha_devolucion = fecha_devolucion\n",
        "   self.renovar_prestamo = renovar_prestamo\n",
        "\n",
        "  def mostrar_info(self):\n",
        "    return f\"{self.prestamo} por {self.libro} por {self.cliente} por {self.fecha_inicio} por {self.fecha_devolucion} por {self.renovar_prestamo}\""
      ]
    },
    {
      "cell_type": "code",
      "source": [
        "Prestamo1 = Prestamo(\"Cien años de soledad\",\"Pablo Larreta\", \"17 Julio\", \"26 Julio\", \"02 Agosto\", False)"
      ],
      "metadata": {
        "id": "LNcAHM3S1xJL"
      },
      "execution_count": null,
      "outputs": []
    },
    {
      "cell_type": "code",
      "source": [
        "print(Prestamo1.mostrar_info())"
      ],
      "metadata": {
        "colab": {
          "base_uri": "https://localhost:8080/"
        },
        "id": "4u6Q_6zI3XfY",
        "outputId": "430cfbe2-204c-4525-a474-96cf9ad60a94"
      },
      "execution_count": null,
      "outputs": [
        {
          "output_type": "stream",
          "name": "stdout",
          "text": [
            "Cien años de soledad por Pablo Larreta por 17 Julio por 26 Julio por 02 Agosto por False\n"
          ]
        }
      ]
    },
    {
      "cell_type": "code",
      "source": [
        "##CLASE LIBRO TABLA 2\n",
        "class Libro:\n",
        "  def __init__(self, titulo, autor, isbn, precio): #Constructor de clase\n",
        "   self.titulo = titulo\n",
        "   self.autor = autor\n",
        "   self.isbn = isbn\n",
        "   self.precio = precio\n",
        "\n",
        "  def mostrar_info(self):  #Metodo\n",
        "    return f\"{self.titulo} por {self.autor} -ISBN: {self.isbn}, Precio ${self.precio}\""
      ],
      "metadata": {
        "id": "pUYgF3RZSLV1"
      },
      "execution_count": 1,
      "outputs": []
    },
    {
      "cell_type": "code",
      "source": [
        "libro1 = Libro(\"Cien años de soledad\", \"Gabriel García Márquez\", \"9780307474728\", 350.00)"
      ],
      "metadata": {
        "id": "YeyK0m5BSZOq"
      },
      "execution_count": 4,
      "outputs": []
    },
    {
      "cell_type": "code",
      "source": [
        "print(libro1.mostrar_info())"
      ],
      "metadata": {
        "colab": {
          "base_uri": "https://localhost:8080/"
        },
        "id": "Lx-kS4ESSm1c",
        "outputId": "8a29f8ee-6767-49ef-c437-2bf3e74bf7c6"
      },
      "execution_count": 5,
      "outputs": [
        {
          "output_type": "stream",
          "name": "stdout",
          "text": [
            "Cien años de soledad por Gabriel García Márquez -ISBN: 9780307474728, Precio $350.0\n"
          ]
        }
      ]
    },
    {
      "cell_type": "code",
      "source": [
        "##CLASE VENTA TABLA 3\n",
        "class Venta:\n",
        "  def __init__(self, cliente, libros, total, fecha, calcular_total,generar_ticket):\n",
        "   self.cliente = cliente\n",
        "   self.libros = libros\n",
        "   self.total = total\n",
        "   self.fecha = fecha\n",
        "   self.calcular_total = calcular_total\n",
        "   self.generar_ticket = generar_ticket\n",
        "\n",
        "  def mostrar_info(self):\n",
        "    return f\"{self.cliente} por {self.libros} por {self.total} por {self.fecha} por {self.calcular_total} por {self.generar_ticket}\""
      ],
      "metadata": {
        "id": "mc-0fLDES4T_"
      },
      "execution_count": 12,
      "outputs": []
    },
    {
      "cell_type": "code",
      "source": [
        "venta1 =Venta(\"Pablo Larreta\",\"5\",\"350\",\"26 de agosto\", False, False)"
      ],
      "metadata": {
        "id": "Hwzls6mmTpMl"
      },
      "execution_count": 9,
      "outputs": []
    },
    {
      "cell_type": "code",
      "metadata": {
        "colab": {
          "base_uri": "https://localhost:8080/",
          "height": 141
        },
        "id": "ecc04ab0",
        "outputId": "f34346b3-be3b-4c93-bf7c-72dfc8c2b6f8"
      },
      "source": [
        "print(venta1.mostrar_info())"
      ],
      "execution_count": 14,
      "outputs": [
        {
          "output_type": "error",
          "ename": "AttributeError",
          "evalue": "'Venta' object has no attribute 'mostrar_info'",
          "traceback": [
            "\u001b[0;31m---------------------------------------------------------------------------\u001b[0m",
            "\u001b[0;31mAttributeError\u001b[0m                            Traceback (most recent call last)",
            "\u001b[0;32m/tmp/ipython-input-1756318088.py\u001b[0m in \u001b[0;36m<cell line: 0>\u001b[0;34m()\u001b[0m\n\u001b[0;32m----> 1\u001b[0;31m \u001b[0mprint\u001b[0m\u001b[0;34m(\u001b[0m\u001b[0mventa1\u001b[0m\u001b[0;34m.\u001b[0m\u001b[0mmostrar_info\u001b[0m\u001b[0;34m(\u001b[0m\u001b[0;34m)\u001b[0m\u001b[0;34m)\u001b[0m\u001b[0;34m\u001b[0m\u001b[0;34m\u001b[0m\u001b[0m\n\u001b[0m",
            "\u001b[0;31mAttributeError\u001b[0m: 'Venta' object has no attribute 'mostrar_info'"
          ]
        }
      ]
    }
  ]
}
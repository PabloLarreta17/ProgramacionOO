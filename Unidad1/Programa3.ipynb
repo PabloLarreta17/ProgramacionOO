{
  "nbformat": 4,
  "nbformat_minor": 0,
  "metadata": {
    "colab": {
      "provenance": [],
      "authorship_tag": "ABX9TyPEM+9HGBmWtU825CdOUFyg",
      "include_colab_link": true
    },
    "kernelspec": {
      "name": "python3",
      "display_name": "Python 3"
    },
    "language_info": {
      "name": "python"
    }
  },
  "cells": [
    {
      "cell_type": "markdown",
      "metadata": {
        "id": "view-in-github",
        "colab_type": "text"
      },
      "source": [
        "<a href=\"https://colab.research.google.com/github/PabloLarreta17/ProgramacionOO/blob/main/Unidad1/Programa3.ipynb\" target=\"_parent\"><img src=\"https://colab.research.google.com/assets/colab-badge.svg\" alt=\"Open In Colab\"/></a>"
      ]
    },
    {
      "cell_type": "code",
      "execution_count": 11,
      "metadata": {
        "id": "UE6wi-ALzGhJ"
      },
      "outputs": [],
      "source": [
        "class Prestamo:\n",
        "  def __init__(self, prestamo, libro, cliente, fecha_inicio,fecha_devolucion,renovar_prestamo): #Constructor de clase\n",
        "   self.prestamo = prestamo\n",
        "   self.libro = libro\n",
        "   self.cliente = cliente\n",
        "   self.fecha_inicio = fecha_inicio\n",
        "   self.fecha_devolucion = fecha_devolucion\n",
        "   self.renovar_prestamo = renovar_prestamo\n",
        "\n",
        "  def mostrar_info(self):\n",
        "    return f\"{self.prestamo} por {self.libro} por {self.cliente} por {self.fecha_inicio} por {self.fecha_devolucion} por {self.renovar_prestamo}\""
      ]
    },
    {
      "cell_type": "code",
      "source": [
        "Prestamo1 = Prestamo(\"Cien años de soledad\",\"Pablo Larreta\", \"17 Julio\", \"26 Julio\", \"02 Agosto\", False)"
      ],
      "metadata": {
        "id": "LNcAHM3S1xJL"
      },
      "execution_count": 14,
      "outputs": []
    },
    {
      "cell_type": "code",
      "source": [
        "print(Prestamo1.mostrar_info())"
      ],
      "metadata": {
        "colab": {
          "base_uri": "https://localhost:8080/"
        },
        "id": "4u6Q_6zI3XfY",
        "outputId": "430cfbe2-204c-4525-a474-96cf9ad60a94"
      },
      "execution_count": 15,
      "outputs": [
        {
          "output_type": "stream",
          "name": "stdout",
          "text": [
            "Cien años de soledad por Pablo Larreta por 17 Julio por 26 Julio por 02 Agosto por False\n"
          ]
        }
      ]
    }
  ]
}
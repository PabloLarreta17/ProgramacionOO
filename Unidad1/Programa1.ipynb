{
  "nbformat": 4,
  "nbformat_minor": 0,
  "metadata": {
    "colab": {
      "provenance": [],
      "authorship_tag": "ABX9TyPkAuwPf/ruNYWRmZ2XeYvM",
      "include_colab_link": true
    },
    "kernelspec": {
      "name": "python3",
      "display_name": "Python 3"
    },
    "language_info": {
      "name": "python"
    }
  },
  "cells": [
    {
      "cell_type": "markdown",
      "metadata": {
        "id": "view-in-github",
        "colab_type": "text"
      },
      "source": [
        "<a href=\"https://colab.research.google.com/github/PabloLarreta17/ProgramacionOO/blob/main/Unidad1/Programa1.ipynb\" target=\"_parent\"><img src=\"https://colab.research.google.com/assets/colab-badge.svg\" alt=\"Open In Colab\"/></a>"
      ]
    },
    {
      "cell_type": "markdown",
      "source": [
        "# **Programación Orientada a Objetos**\n",
        "## **Unidad 1. Introduccion a POO**\n",
        "### **Maestro: Jose Gabriel Rodriguez Rivas**\n",
        "### **Alumno: Pablo Larreta Mijares**"
      ],
      "metadata": {
        "id": "cOq5m-vC4dbH"
      }
    },
    {
      "cell_type": "code",
      "source": [
        "#Declarar variables\n",
        "# En python no hay necesidad de declarar el tipo de variable\n",
        "# Cuando se le asigna el valor, automaticamente python ya sabe de que tipo es\n",
        "#Python es CASE SENSITIVE es decir que es sensible a mayusculas a la hora de\n",
        "#declarar variables, por lo tanto no es lo mismo la variable x, que la variable X\n",
        "X=5\n",
        "msg= \"Hola mundo\"\n",
        "print (X,msg)"
      ],
      "metadata": {
        "colab": {
          "base_uri": "https://localhost:8080/"
        },
        "id": "83pIFExF7Rsy",
        "outputId": "a5d275df-505f-446e-bd98-97180b32cdae"
      },
      "execution_count": null,
      "outputs": [
        {
          "output_type": "stream",
          "name": "stdout",
          "text": [
            "5 Hola mundo\n"
          ]
        }
      ]
    },
    {
      "cell_type": "code",
      "source": [
        "#Python es debilmente tipado es decir, no hay necesidad de declarar el tipo de\n",
        "#variable y ademas, la misma variable en un mommento puede ser entera y en otra\n",
        "#string o booleana\n",
        "print(type(X))\n",
        "X=\"Hola\"\n",
        "print(type(X))"
      ],
      "metadata": {
        "colab": {
          "base_uri": "https://localhost:8080/"
        },
        "id": "J7BKSnFL8Hq5",
        "outputId": "947463ee-450d-4c2e-e0cd-5ca9991c1bc6"
      },
      "execution_count": null,
      "outputs": [
        {
          "output_type": "stream",
          "name": "stdout",
          "text": [
            "<class 'int'>\n",
            "<class 'str'>\n"
          ]
        }
      ]
    },
    {
      "cell_type": "code",
      "source": [
        "variable = input(\"Escribe tu nombre:\")\n",
        "print(\"Tu nombre es:\", variable)"
      ],
      "metadata": {
        "colab": {
          "base_uri": "https://localhost:8080/"
        },
        "id": "uSka9HNJbYke",
        "outputId": "511bfb0e-e15e-4e9e-f076-6b19d7532b09"
      },
      "execution_count": 1,
      "outputs": [
        {
          "output_type": "stream",
          "name": "stdout",
          "text": [
            "Escribe tu nombre:Pablo\n",
            "Tu nombre es: Pablo\n"
          ]
        }
      ]
    },
    {
      "cell_type": "code",
      "source": [
        "nom = input(\"¿Me puedes dar tu nombre por favor?\")\n",
        "ape = input(\"¿Me puedes dar tu apeliido por favor?\")\n",
        "print(\"Gracias\")\n",
        "print(\"/nTu nombre es\" , nom, ape, \".\")"
      ],
      "metadata": {
        "colab": {
          "base_uri": "https://localhost:8080/"
        },
        "id": "0xquiQuodCMS",
        "outputId": "29ed47f5-334d-4b26-f952-6baae1967a10"
      },
      "execution_count": 3,
      "outputs": [
        {
          "output_type": "stream",
          "name": "stdout",
          "text": [
            "¿Me puedes dar tu nombre por favor?Pablo\n",
            "¿Me puedes dar tu apeliido por favor?Larreta\n",
            "Gracias\n",
            "/nTu nombre es Pablo Larreta .\n"
          ]
        }
      ]
    },
    {
      "cell_type": "code",
      "source": [
        "x= input(\"Dame un numero para multiplicar\")\n",
        "z=x * 5\n",
        "print(z)"
      ],
      "metadata": {
        "colab": {
          "base_uri": "https://localhost:8080/"
        },
        "id": "AdF9Wev0e_7u",
        "outputId": "4dd2369c-c54c-46d1-d41b-ef9e2a159322"
      },
      "execution_count": 4,
      "outputs": [
        {
          "output_type": "stream",
          "name": "stdout",
          "text": [
            "Dame un numero para multiplicar7\n",
            "77777\n"
          ]
        }
      ]
    },
    {
      "cell_type": "code",
      "source": [
        "x = int(input(\"Dame un numero para multiplicar\"))\n",
        "z = x * 5\n",
        "print(z)"
      ],
      "metadata": {
        "colab": {
          "base_uri": "https://localhost:8080/"
        },
        "id": "SOCegtkRfXxX",
        "outputId": "3996c793-a659-4b49-add9-aeef1c489761"
      },
      "execution_count": 5,
      "outputs": [
        {
          "output_type": "stream",
          "name": "stdout",
          "text": [
            "Dame un numero para multiplicar8\n",
            "40\n"
          ]
        }
      ]
    },
    {
      "cell_type": "code",
      "source": [
        "cateto_a = float( input( \"Inserta la longitud del primer cateto:\"))\n",
        "cateto_b = float(input( \"Inserta la longitud del segundo cateto:\"))\n",
        "hipo = (cateto_a**2 + cateto_b**2) ** .5\n",
        "print(\"La longitud de la hipotenusa es: \", hipo)"
      ],
      "metadata": {
        "colab": {
          "base_uri": "https://localhost:8080/"
        },
        "id": "lltmEp4Of4rL",
        "outputId": "9f2f22df-5d03-4fc3-fcd5-0735419756c4"
      },
      "execution_count": 8,
      "outputs": [
        {
          "output_type": "stream",
          "name": "stdout",
          "text": [
            "Inserta la longitud del primer cateto:10\n",
            "Inserta la longitud del segundo cateto:5\n",
            "La longitud de la hipotenusa es:  11.180339887498949\n"
          ]
        }
      ]
    },
    {
      "cell_type": "code",
      "source": [
        "#"
      ],
      "metadata": {
        "id": "e1uyNErEjqtj"
      },
      "execution_count": 11,
      "outputs": []
    },
    {
      "cell_type": "code",
      "source": [
        "a = 3000\n",
        "b = 12500\n",
        "if b > a:\n",
        "  print(\"b es mayor que a\")\n",
        "else:\n",
        "    print(\"a es mayor que b\")\n",
        "\n",
        "print(\"Fin del if\")"
      ],
      "metadata": {
        "colab": {
          "base_uri": "https://localhost:8080/"
        },
        "id": "YfZj7CInjzc3",
        "outputId": "09547d36-cb30-47a5-c84e-38fe44b1452c"
      },
      "execution_count": 13,
      "outputs": [
        {
          "output_type": "stream",
          "name": "stdout",
          "text": [
            "b es mayor que a\n",
            "Fin del if\n"
          ]
        }
      ]
    }
  ]
}
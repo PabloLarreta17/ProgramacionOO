{
  "nbformat": 4,
  "nbformat_minor": 0,
  "metadata": {
    "colab": {
      "provenance": [],
      "include_colab_link": true
    },
    "kernelspec": {
      "name": "python3",
      "display_name": "Python 3"
    },
    "language_info": {
      "name": "python"
    }
  },
  "cells": [
    {
      "cell_type": "markdown",
      "metadata": {
        "id": "view-in-github",
        "colab_type": "text"
      },
      "source": [
        "<a href=\"https://colab.research.google.com/github/PabloLarreta17/ProgramacionOO/blob/main/Unidad1/Programa1.ipynb\" target=\"_parent\"><img src=\"https://colab.research.google.com/assets/colab-badge.svg\" alt=\"Open In Colab\"/></a>"
      ]
    },
    {
      "cell_type": "markdown",
      "source": [
        "# **Programación Orientada a Objetos**\n",
        "## **Unidad 1. Introduccion a POO**\n",
        "### **Maestro: Jose Gabriel Rodriguez Rivas**\n",
        "### **Alumno: Pablo Larreta Mijares**"
      ],
      "metadata": {
        "id": "cOq5m-vC4dbH"
      }
    },
    {
      "cell_type": "code",
      "source": [
        "#Declarar variables\n",
        "# En python no hay necesidad de declarar el tipo de variable\n",
        "# Cuando se le asigna el valor, automaticamente python ya sabe de que tipo es\n",
        "#Python es CASE SENSITIVE es decir que es sensible a mayusculas a la hora de\n",
        "#declarar variables, por lo tanto no es lo mismo la variable x, que la variable X\n",
        "X=5\n",
        "msg= \"Hola mundo\"\n",
        "print (X,msg)"
      ],
      "metadata": {
        "colab": {
          "base_uri": "https://localhost:8080/"
        },
        "id": "83pIFExF7Rsy",
        "outputId": "a5d275df-505f-446e-bd98-97180b32cdae"
      },
      "execution_count": null,
      "outputs": [
        {
          "output_type": "stream",
          "name": "stdout",
          "text": [
            "5 Hola mundo\n"
          ]
        }
      ]
    },
    {
      "cell_type": "code",
      "source": [
        "#Python es debilmente tipado es decir, no hay necesidad de declarar el tipo de\n",
        "#variable y ademas, la misma variable en un mommento puede ser entera y en otra\n",
        "#string o booleana\n",
        "print(type(X))\n",
        "X=\"Hola\"\n",
        "print(type(X))"
      ],
      "metadata": {
        "colab": {
          "base_uri": "https://localhost:8080/"
        },
        "id": "J7BKSnFL8Hq5",
        "outputId": "947463ee-450d-4c2e-e0cd-5ca9991c1bc6"
      },
      "execution_count": null,
      "outputs": [
        {
          "output_type": "stream",
          "name": "stdout",
          "text": [
            "<class 'int'>\n",
            "<class 'str'>\n"
          ]
        }
      ]
    },
    {
      "cell_type": "code",
      "source": [
        "variable = input(\"Escribe tu nombre:\")\n",
        "print(\"Tu nombre es:\", variable)"
      ],
      "metadata": {
        "colab": {
          "base_uri": "https://localhost:8080/"
        },
        "id": "uSka9HNJbYke",
        "outputId": "511bfb0e-e15e-4e9e-f076-6b19d7532b09"
      },
      "execution_count": null,
      "outputs": [
        {
          "output_type": "stream",
          "name": "stdout",
          "text": [
            "Escribe tu nombre:Pablo\n",
            "Tu nombre es: Pablo\n"
          ]
        }
      ]
    },
    {
      "cell_type": "code",
      "source": [
        "nom = input(\"¿Me puedes dar tu nombre por favor?\")\n",
        "ape = input(\"¿Me puedes dar tu apeliido por favor?\")\n",
        "print(\"Gracias\")\n",
        "print(\"/nTu nombre es\" , nom, ape, \".\")"
      ],
      "metadata": {
        "colab": {
          "base_uri": "https://localhost:8080/"
        },
        "id": "0xquiQuodCMS",
        "outputId": "29ed47f5-334d-4b26-f952-6baae1967a10"
      },
      "execution_count": null,
      "outputs": [
        {
          "output_type": "stream",
          "name": "stdout",
          "text": [
            "¿Me puedes dar tu nombre por favor?Pablo\n",
            "¿Me puedes dar tu apeliido por favor?Larreta\n",
            "Gracias\n",
            "/nTu nombre es Pablo Larreta .\n"
          ]
        }
      ]
    },
    {
      "cell_type": "code",
      "source": [
        "x= input(\"Dame un numero para multiplicar\")\n",
        "z=x * 5\n",
        "print(z)"
      ],
      "metadata": {
        "colab": {
          "base_uri": "https://localhost:8080/"
        },
        "id": "AdF9Wev0e_7u",
        "outputId": "4dd2369c-c54c-46d1-d41b-ef9e2a159322"
      },
      "execution_count": null,
      "outputs": [
        {
          "output_type": "stream",
          "name": "stdout",
          "text": [
            "Dame un numero para multiplicar7\n",
            "77777\n"
          ]
        }
      ]
    },
    {
      "cell_type": "code",
      "source": [
        "x = int(input(\"Dame un numero para multiplicar\"))\n",
        "z = x * 5\n",
        "print(z)"
      ],
      "metadata": {
        "colab": {
          "base_uri": "https://localhost:8080/"
        },
        "id": "SOCegtkRfXxX",
        "outputId": "3996c793-a659-4b49-add9-aeef1c489761"
      },
      "execution_count": null,
      "outputs": [
        {
          "output_type": "stream",
          "name": "stdout",
          "text": [
            "Dame un numero para multiplicar8\n",
            "40\n"
          ]
        }
      ]
    },
    {
      "cell_type": "code",
      "source": [
        "cateto_a = float( input( \"Inserta la longitud del primer cateto:\"))\n",
        "cateto_b = float(input( \"Inserta la longitud del segundo cateto:\"))\n",
        "hipo = (cateto_a**2 + cateto_b**2) ** .5\n",
        "print(\"La longitud de la hipotenusa es: \", hipo)"
      ],
      "metadata": {
        "colab": {
          "base_uri": "https://localhost:8080/"
        },
        "id": "lltmEp4Of4rL",
        "outputId": "9f2f22df-5d03-4fc3-fcd5-0735419756c4"
      },
      "execution_count": null,
      "outputs": [
        {
          "output_type": "stream",
          "name": "stdout",
          "text": [
            "Inserta la longitud del primer cateto:10\n",
            "Inserta la longitud del segundo cateto:5\n",
            "La longitud de la hipotenusa es:  11.180339887498949\n"
          ]
        }
      ]
    },
    {
      "cell_type": "code",
      "source": [
        "#"
      ],
      "metadata": {
        "id": "e1uyNErEjqtj"
      },
      "execution_count": null,
      "outputs": []
    },
    {
      "cell_type": "code",
      "source": [
        "a = 3000\n",
        "b = 12500\n",
        "if b > a:\n",
        "  print(\"b es mayor que a\")\n",
        "else:\n",
        "    print(\"a es mayor que b\")\n",
        "\n",
        "print(\"Fin del if\")"
      ],
      "metadata": {
        "colab": {
          "base_uri": "https://localhost:8080/"
        },
        "id": "YfZj7CInjzc3",
        "outputId": "09547d36-cb30-47a5-c84e-38fe44b1452c"
      },
      "execution_count": null,
      "outputs": [
        {
          "output_type": "stream",
          "name": "stdout",
          "text": [
            "b es mayor que a\n",
            "Fin del if\n"
          ]
        }
      ]
    },
    {
      "cell_type": "code",
      "source": [
        "##Mas de una linea de bloque de codigo\n",
        "a = 3000\n",
        "b =12500\n",
        "if b>a:\n",
        "  print(\"b es mayor que a\")\n",
        "  print(\"b vale =>\", b)\n",
        "elif a==b:\n",
        "    print(\"a es igual que b\")\n",
        "    print(\"a y b valen =>\",a)\n",
        "else:\n",
        "    print(\"a es mayor que b\")\n",
        "    print(\"a vale =>\",a)\n",
        "print(\"Fin del if\")\n"
      ],
      "metadata": {
        "colab": {
          "base_uri": "https://localhost:8080/"
        },
        "id": "d5h7qdeqm80E",
        "outputId": "63bf336c-3739-4854-a302-c675b6a18292"
      },
      "execution_count": null,
      "outputs": [
        {
          "output_type": "stream",
          "name": "stdout",
          "text": [
            "b es mayor que a\n",
            "b vale => 12500\n",
            "Fin del if\n"
          ]
        }
      ]
    },
    {
      "cell_type": "code",
      "source": [
        "## if y if.. else en version corta\n",
        "## de lazo izquierdo es la verdadera condicion\n",
        "x = 50\n",
        "y = 60\n",
        "\n",
        "print(\"x es mayor que y\") if (x > y) else print(\"y es mayor que x\")\n"
      ],
      "metadata": {
        "colab": {
          "base_uri": "https://localhost:8080/"
        },
        "id": "MWkA9MjLoRQu",
        "outputId": "8abb4686-b1dd-4fcf-8531-d8d1193fd5f8"
      },
      "execution_count": null,
      "outputs": [
        {
          "output_type": "stream",
          "name": "stdout",
          "text": [
            "y es mayor que x\n"
          ]
        }
      ]
    },
    {
      "cell_type": "code",
      "source": [
        "##Ciclos\n",
        "i = 1\n",
        "while i <= 10:\n",
        "  print(i)\n",
        "  i +=1\n",
        "print(\"fuera del while\")"
      ],
      "metadata": {
        "colab": {
          "base_uri": "https://localhost:8080/"
        },
        "id": "1GbfKwFTo7Xw",
        "outputId": "a6e534f7-3070-4361-debb-1ef0ce7544ed"
      },
      "execution_count": null,
      "outputs": [
        {
          "output_type": "stream",
          "name": "stdout",
          "text": [
            "1\n",
            "2\n",
            "3\n",
            "4\n",
            "5\n",
            "6\n",
            "7\n",
            "8\n",
            "9\n",
            "10\n",
            "fuera del while\n"
          ]
        }
      ]
    },
    {
      "cell_type": "code",
      "source": [
        "#Ciclo breack\n",
        "i = 1\n",
        "while i <= 1000:\n",
        "  print(i)\n",
        "  if i == 10:\n",
        "    print(\"Entro al if\")\n",
        "    break\n",
        "  i += 1\n",
        "print(\"fuera del while\")"
      ],
      "metadata": {
        "colab": {
          "base_uri": "https://localhost:8080/"
        },
        "id": "z6VJTTjYqAzd",
        "outputId": "9ba602af-d603-4471-a30c-8f2de06f125d"
      },
      "execution_count": null,
      "outputs": [
        {
          "output_type": "stream",
          "name": "stdout",
          "text": [
            "1\n",
            "2\n",
            "3\n",
            "4\n",
            "5\n",
            "6\n",
            "7\n",
            "8\n",
            "9\n",
            "10\n",
            "Entro al if\n",
            "fuera del while\n"
          ]
        }
      ]
    },
    {
      "cell_type": "code",
      "source": [
        "## Poder poner Menu\n",
        "while(True):\n",
        "  print(\"\"\"Selecciona una opcion\n",
        "  1) Opcion1\n",
        "  2) Opcion 2\n",
        "  3) Salir\"\"\")\n",
        "  opcion = input(\"¿CUal es la opcion que deseas?\")\n",
        "  if opcion == '1':\n",
        "    print(\"Seleccionaste la opcion 1 /n\")\n",
        "  elif opcion == '2':\n",
        "    print(\"Seleccionaste la opcion 2 /n\")\n",
        "  elif opcion == '3':\n",
        "    print(\"Seleccionaste la Salir\")\n",
        "    break\n",
        "  else:\n",
        "    print(\"Opcion desconocida, vuelve a intentarlo\")\n",
        "print(\"Fuera del ciclo\")"
      ],
      "metadata": {
        "colab": {
          "base_uri": "https://localhost:8080/"
        },
        "id": "f9UICDVUrOuC",
        "outputId": "85f290a7-0ab0-4187-e1a6-ac913dca981c"
      },
      "execution_count": null,
      "outputs": [
        {
          "output_type": "stream",
          "name": "stdout",
          "text": [
            "Selecciona una opcion\n",
            "  1) Opcion 1\n",
            "  2) Opcion 2\n",
            "  3) Salir\n",
            "¿CUal es la opcion que deseas?1\n",
            "Seleccionaste la opcion 1 /n\n",
            "Selecciona una opcion\n",
            "  1) Opcion 1\n",
            "  2) Opcion 2\n",
            "  3) Salir\n",
            "¿CUal es la opcion que deseas?2\n",
            "Seleccionaste la opcion 2 /n\n",
            "Selecciona una opcion\n",
            "  1) Opcion 1\n",
            "  2) Opcion 2\n",
            "  3) Salir\n",
            "¿CUal es la opcion que deseas?3\n",
            "Seleccionaste la Salir\n",
            "Fuera del ciclo\n"
          ]
        }
      ]
    },
    {
      "cell_type": "code",
      "source": [
        "#Ciclo For\n",
        "#si no se especfica un rango inicial empiezo en 0\n",
        "#Cuando se establece el limite sera ese menos 1\n",
        "for x in range(5):\n",
        "  print(x)"
      ],
      "metadata": {
        "id": "ESMuMnL9uhnz",
        "outputId": "0d58ce59-81dc-48fc-a797-da4452600c34",
        "colab": {
          "base_uri": "https://localhost:8080/"
        }
      },
      "execution_count": 2,
      "outputs": [
        {
          "output_type": "stream",
          "name": "stdout",
          "text": [
            "0\n",
            "1\n",
            "2\n",
            "3\n",
            "4\n"
          ]
        }
      ]
    },
    {
      "cell_type": "code",
      "source": [
        "for z in range(2,5):\n",
        "  print(z)\n",
        ""
      ],
      "metadata": {
        "id": "u7AQ9YUpvivF",
        "outputId": "6271405f-f8b6-458a-e18e-75c3d6c25e0c",
        "colab": {
          "base_uri": "https://localhost:8080/"
        }
      },
      "execution_count": 3,
      "outputs": [
        {
          "output_type": "stream",
          "name": "stdout",
          "text": [
            "2\n",
            "3\n",
            "4\n"
          ]
        }
      ]
    },
    {
      "cell_type": "code",
      "source": [
        "#tercer parametro para el incremento\n",
        "for z in range(1,25,2):\n",
        "  print(z)"
      ],
      "metadata": {
        "id": "K8yRZYaVvqcI",
        "outputId": "67467c36-11be-4afd-9bbd-7235495428d2",
        "colab": {
          "base_uri": "https://localhost:8080/"
        }
      },
      "execution_count": 4,
      "outputs": [
        {
          "output_type": "stream",
          "name": "stdout",
          "text": [
            "1\n",
            "3\n",
            "5\n",
            "7\n",
            "9\n",
            "11\n",
            "13\n",
            "15\n",
            "17\n",
            "19\n",
            "21\n",
            "23\n"
          ]
        }
      ]
    },
    {
      "cell_type": "code",
      "source": [
        "print(\"La instruccion break\")\n",
        "variablez = True #Variable de tipo Booleaba\n",
        "for i in range(1,6):\n",
        "  print(\"Esto es un print dentro del for\")\n",
        "  if variablez:\n",
        "    print(\"Entro al if\")\n",
        "    break\n",
        "print(\"Fuera del for\")"
      ],
      "metadata": {
        "id": "tPKNlxUNwVry",
        "outputId": "2c0ba175-dad6-40cd-d618-b728df79f5c6",
        "colab": {
          "base_uri": "https://localhost:8080/"
        }
      },
      "execution_count": 13,
      "outputs": [
        {
          "output_type": "stream",
          "name": "stdout",
          "text": [
            "La instruccion break\n",
            "Esto es un print dentro del for\n",
            "Entro al if\n",
            "Fuera del for\n"
          ]
        }
      ]
    },
    {
      "cell_type": "code",
      "source": [
        "#ejemplo continua\n",
        "print(\"\\nLa instruccion continue:\")\n",
        "for i in range(1, 6):\n",
        "  if i == 3:\n",
        "    continue\n",
        "  print(\"Dentro del bucle\",i)\n",
        "print(\"Fuera del bucle\")"
      ],
      "metadata": {
        "id": "q6UKhG4wxh8v",
        "outputId": "ab0b497f-c59d-431b-f92f-19573e43b94a",
        "colab": {
          "base_uri": "https://localhost:8080/"
        }
      },
      "execution_count": 22,
      "outputs": [
        {
          "output_type": "stream",
          "name": "stdout",
          "text": [
            "\n",
            "La instruccion continue:\n",
            "Dentro del bucle 1\n",
            "Dentro del bucle 2\n",
            "Dentro del bucle 4\n",
            "Dentro del bucle 5\n",
            "Fuera del bucle\n"
          ]
        }
      ]
    },
    {
      "cell_type": "code",
      "source": [
        "frutas =[\"platano\", \"naranja\",\"manzana\"]\n",
        "for x in frutas:\n",
        "  print(x)\n",
        "  if x== \"naranja\":\n",
        "    break"
      ],
      "metadata": {
        "id": "awyDLn8Hzeja",
        "outputId": "27ca6c31-d547-46c2-8bc5-5de0e0c57490",
        "colab": {
          "base_uri": "https://localhost:8080/"
        }
      },
      "execution_count": 10,
      "outputs": [
        {
          "output_type": "stream",
          "name": "stdout",
          "text": [
            "platano\n",
            "naranja\n"
          ]
        }
      ]
    },
    {
      "cell_type": "code",
      "source": [
        "n = 0\n",
        "while n != 3:\n",
        "  print(n)\n",
        "  n +=1\n",
        "else:\n",
        "  print(n,\"else\")\n",
        "print()#Para generar linea en blanco\n",
        "for i in range(0,3):\n",
        "  print(i)\n",
        "else:\n",
        "    print(i,\"else\")"
      ],
      "metadata": {
        "id": "tnLCoWHX0Qc4",
        "outputId": "fbd4face-d26d-4d92-a9d7-01eb5643eea7",
        "colab": {
          "base_uri": "https://localhost:8080/"
        }
      },
      "execution_count": 11,
      "outputs": [
        {
          "output_type": "stream",
          "name": "stdout",
          "text": [
            "0\n",
            "1\n",
            "2\n",
            "3 else\n",
            "\n",
            "0\n",
            "1\n",
            "2\n",
            "2 else\n"
          ]
        }
      ]
    },
    {
      "cell_type": "code",
      "source": [
        "#Funciones\n",
        "def funcion_saludar():\n",
        "  print(\"Hola mundo, desde mi funcion\")"
      ],
      "metadata": {
        "id": "VEd5BRH82PyY"
      },
      "execution_count": 24,
      "outputs": []
    },
    {
      "cell_type": "code",
      "source": [
        "funcion_saludar()"
      ],
      "metadata": {
        "id": "AMhCOIC12mbB",
        "outputId": "0a5f0d1a-63b6-4156-d1e9-6ea064d67422",
        "colab": {
          "base_uri": "https://localhost:8080/"
        }
      },
      "execution_count": 25,
      "outputs": [
        {
          "output_type": "stream",
          "name": "stdout",
          "text": [
            "Hola mundo, desde mi funcion\n"
          ]
        }
      ]
    },
    {
      "cell_type": "code",
      "source": [
        "#Parametros en funciones\n",
        "def tablas_de_multiplicar(x):\n",
        "  for z  in range(1,11):\n",
        "    print(x, \"por\", z, \"=\", x*z)\n",
        "  print(\"\\nFin de la funcion\")"
      ],
      "metadata": {
        "id": "tFLWyGGK26pk"
      },
      "execution_count": 27,
      "outputs": []
    },
    {
      "cell_type": "code",
      "source": [
        "tablas_de_multiplicar(14)"
      ],
      "metadata": {
        "id": "3uAXsMWt3ZlO",
        "outputId": "e117dbe3-1421-4385-f4a7-8b2c35d50d39",
        "colab": {
          "base_uri": "https://localhost:8080/"
        }
      },
      "execution_count": 28,
      "outputs": [
        {
          "output_type": "stream",
          "name": "stdout",
          "text": [
            "14 por 1 = 14\n",
            "14 por 2 = 28\n",
            "14 por 3 = 42\n",
            "14 por 4 = 56\n",
            "14 por 5 = 70\n",
            "14 por 6 = 84\n",
            "14 por 7 = 98\n",
            "14 por 8 = 112\n",
            "14 por 9 = 126\n",
            "14 por 10 = 140\n",
            "\n",
            "Fin de la funcion\n"
          ]
        }
      ]
    }
  ]
}
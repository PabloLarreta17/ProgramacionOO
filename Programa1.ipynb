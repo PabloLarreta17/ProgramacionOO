{
  "nbformat": 4,
  "nbformat_minor": 0,
  "metadata": {
    "colab": {
      "provenance": [],
      "authorship_tag": "ABX9TyNNtQR6JQqQfadVABhQV0Fd",
      "include_colab_link": true
    },
    "kernelspec": {
      "name": "python3",
      "display_name": "Python 3"
    },
    "language_info": {
      "name": "python"
    }
  },
  "cells": [
    {
      "cell_type": "markdown",
      "metadata": {
        "id": "view-in-github",
        "colab_type": "text"
      },
      "source": [
        "<a href=\"https://colab.research.google.com/github/PabloLarreta17/ProgramacionOO/blob/main/Programa1.ipynb\" target=\"_parent\"><img src=\"https://colab.research.google.com/assets/colab-badge.svg\" alt=\"Open In Colab\"/></a>"
      ]
    },
    {
      "cell_type": "markdown",
      "source": [
        "# **Programación Orientada a Objetos**\n",
        "## **Unidad 1. Introduccion a POO**\n",
        "### **Maestro: Jose Gabriel Rodriguez Rivas**\n",
        "### **Alumno: Pablo Larreta Mijares**"
      ],
      "metadata": {
        "id": "cOq5m-vC4dbH"
      }
    },
    {
      "cell_type": "code",
      "source": [
        "#Declarar variables\n",
        "# En python no hay necesidad de declarar el tipo de variable\n",
        "# Cuando se le asigna el valor, automaticamente python ya sabe de que tipo es\n",
        "#Python es CASE SENSITIVE es decir que es sensible a mayusculas a la hora de\n",
        "#declarar variables, por lo tanto no es lo mismo la variable x, que la variable X\n",
        "X=5\n",
        "msg= \"Hola mundo\"\n",
        "print (X,msg)"
      ],
      "metadata": {
        "colab": {
          "base_uri": "https://localhost:8080/"
        },
        "id": "83pIFExF7Rsy",
        "outputId": "a5d275df-505f-446e-bd98-97180b32cdae"
      },
      "execution_count": 1,
      "outputs": [
        {
          "output_type": "stream",
          "name": "stdout",
          "text": [
            "5 Hola mundo\n"
          ]
        }
      ]
    },
    {
      "cell_type": "code",
      "source": [
        "#Python es debilmente tipado es decir, no hay necesidad de declarar el tipo de\n",
        "#variable y ademas, la misma variable en un mommento puede ser entera y en otra\n",
        "#string o booleana\n",
        "print(type(X))\n",
        "X=\"Hola\"\n",
        "print(type(X))"
      ],
      "metadata": {
        "colab": {
          "base_uri": "https://localhost:8080/"
        },
        "id": "J7BKSnFL8Hq5",
        "outputId": "947463ee-450d-4c2e-e0cd-5ca9991c1bc6"
      },
      "execution_count": 2,
      "outputs": [
        {
          "output_type": "stream",
          "name": "stdout",
          "text": [
            "<class 'int'>\n",
            "<class 'str'>\n"
          ]
        }
      ]
    }
  ]
}
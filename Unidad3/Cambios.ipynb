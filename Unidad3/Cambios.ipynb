{
  "nbformat": 4,
  "nbformat_minor": 0,
  "metadata": {
    "colab": {
      "provenance": [],
      "authorship_tag": "ABX9TyMJ8O3D9TwxZ3cJk8B9xbgb",
      "include_colab_link": true
    },
    "kernelspec": {
      "name": "python3",
      "display_name": "Python 3"
    },
    "language_info": {
      "name": "python"
    }
  },
  "cells": [
    {
      "cell_type": "markdown",
      "metadata": {
        "id": "view-in-github",
        "colab_type": "text"
      },
      "source": [
        "<a href=\"https://colab.research.google.com/github/PabloLarreta17/ProgramacionOO/blob/main/Unidad3/Cambios.ipynb\" target=\"_parent\"><img src=\"https://colab.research.google.com/assets/colab-badge.svg\" alt=\"Open In Colab\"/></a>"
      ]
    },
    {
      "cell_type": "code",
      "execution_count": 1,
      "metadata": {
        "id": "1WDJUS3uCCDC"
      },
      "outputs": [],
      "source": [
        "class Persona:\n",
        "  def __init__(self,nombre,correo,fecha_nacimiento):\n",
        "    self.nombre=nombre\n",
        "    self.correo=correo\n",
        "    self.fecha_nacimiento=fecha_nacimiento\n",
        "  def mostrar_info(self):\n",
        "    print(f\"Nombre:{self.nombre} | Correo:{self.correo}| Fecha de Nacimiento:{self.fecha_nacimiento}\")\n"
      ]
    },
    {
      "cell_type": "code",
      "source": [
        "#subclase trabajador\n",
        "class Trabajador(Persona):\n",
        "  def __init__(self,num_trabajador,nombre,correo,fecha_nacimienot,departamento,usuario,contraseña):\n",
        "    super().__init__(nombre,correo,fecha_nacimienot)#Hereda atributos de personas\n",
        "    self.num_trabajador = num_trabajador\n",
        "    self.departamento = departamento\n",
        "    self.usuario = usuario\n",
        "    self.contraseña = contraseña\n",
        "\n",
        "  def mostrar_info(self):\n",
        "    return(f\"[Trabajador]{super().mostrar_info()}\"\n",
        "    f\"Numero Trabajador: {self.num_trabajador}, Departamento: {self.departamento},\"\n",
        "    f\"Usuario:{self.usuario}\")"
      ],
      "metadata": {
        "id": "ozv33rr1FPTW"
      },
      "execution_count": 2,
      "outputs": []
    },
    {
      "cell_type": "code",
      "source": [
        "class Estudiante(Persona):\n",
        "  def __init__(self,num_control,nombre,carrera,fecha_nacimiento,telefono,correo):\n",
        "    super().__init__(nombre,correo,fecha_nacimiento)#Hereda atributos de persona\n",
        "    self.num_control=num_control\n",
        "    self.carrera=carrera\n",
        "    self.telefono=telefono\n",
        "\n",
        "  def mostrar_info(self):\n",
        "    return(f\"[Estudiante]{super().mostrarinfo()},\"\n",
        "          f\"Numero Control: {self.num_control}, Carrera: {self.carrera}, Telefono: {self.telefono}\")"
      ],
      "metadata": {
        "id": "RzY5bRFtGzFF"
      },
      "execution_count": 3,
      "outputs": []
    },
    {
      "cell_type": "code",
      "source": [
        "def alta_trabajador():\n",
        "  print(\"\\n==== ALTA DE EL TRABAJADOR ====\")\n",
        "  num_trabajador = input(\"Numero de trabajador: \")\n",
        "  for t in trabajadores:\n",
        "    if t.num_trabajador == num_trabajador:\n",
        "      print(\"Ya existe un trabajador con ese numero de trabajador.\")\n",
        "      return\n",
        "  nombre == input(\"Nombre: \")\n",
        "  correo = input(\"Correo: \")\n",
        "  fecha_nacimiento = input(\"Fecha de nacimiento: (YYYY-MM-DD):\")\n",
        "  departamento = input(\"Departamento: \")\n",
        "  usuario = input(\"Usuario de acceso \")\n",
        "  contraseña = input(\"Contraseña: \")\n",
        "\n",
        "  nuevo = Trabajador(num_trabajador,nombre,correo,fecha_nacimiento,departamento,usuario,contraseña)\n",
        "  trabajadores.append(nuevo)\n",
        "  print(f\"Trabajador{nombre} agregado correctamente.\\n\")"
      ],
      "metadata": {
        "id": "f61-ptMiwug1"
      },
      "execution_count": null,
      "outputs": []
    },
    {
      "cell_type": "code",
      "source": [
        "def mostrar_todos_trabajadores():\n",
        "  print(\"\\n---Lista de todos los trabajadores---\")\n",
        "  if not trabajadores:\n",
        "    print(\"No hay trabajadores registrados.\")\n",
        "    else:\n",
        "      for trabajador in trabajadores:\n",
        "          trabajador.mostrar_info():"
      ],
      "metadata": {
        "id": "jW5_F8ZNyQuC"
      },
      "execution_count": null,
      "outputs": []
    },
    {
      "cell_type": "code",
      "source": [
        "def iniciar_sesion():\n",
        "  print(\"\\n===INICIO DE SESION===\")\n",
        "  usuario = input(\"Usuario: \")\n",
        "  contraseña = input(\"Contraseña: \")\n",
        "\n",
        "  for t in trabajadores:\n",
        "    if t.usuario == usuario and t.contraseña == contraseña:\n",
        "      print(f\"Bienvenido {t.nombre} ({t.departamento})\")\n",
        "      return t\n",
        "  print(\"Usuario o contraseña incorrecta.\\n\")\n",
        "  return None"
      ],
      "metadata": {
        "id": "DwkCaNhjytXx"
      },
      "execution_count": null,
      "outputs": []
    },
    {
      "cell_type": "code",
      "source": [
        "def mostrar_menu():\n",
        "  print(\"\\n---SISTEMA DE LIBRERIA ESCOLAR----\")\n",
        "  print(\"1.Dar de alta libro\")\n",
        "  print(\"2.Dar de alta estudiante\")\n",
        "  print(\"3.Consultar libro por ISBN\")\n",
        "  print(\"4.Consultar estudiante por numero de control\")\n",
        "  print(\"5.Mostrar inventario\")\n",
        "  print(\"6.Mostrar todos los estudiantes\")\n",
        "  print(\"7.Realizar prestamo\")\n",
        "  print(\"8.Mostrar prestamo\")\n",
        "  print(\"9.Devolver libro\")\n",
        "  print(\"10.Registrar ventas\")\n",
        "  print(\"11.Mostrar historial de ventas\")\n",
        "  print(\"12.Dar de alta trabajador\")\n",
        "  print(\"13.Mostrar todos los trabajadores\")\n",
        "  print(\"14.Salir del sistema\")"
      ],
      "metadata": {
        "id": "EaoJ8wlqzSLq"
      },
      "execution_count": null,
      "outputs": []
    },
    {
      "cell_type": "code",
      "source": [
        "def iniciar_sistema():\n",
        "  sesion = iniciar_sesion()\n",
        "  while sesion:\n",
        "    mostrar_menu():\n",
        "    opcion =input(\"Selecione una opcion:\")\n",
        "    if opcion ==\"1\":\n",
        "      alta_libro()\n",
        "    elif opcion ==\"2\":\n",
        "      alta_estudiante()\n",
        "\n",
        ""
      ],
      "metadata": {
        "id": "DJHVo8U708a_"
      },
      "execution_count": null,
      "outputs": []
    }
  ]
}
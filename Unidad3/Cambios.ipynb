{
  "nbformat": 4,
  "nbformat_minor": 0,
  "metadata": {
    "colab": {
      "provenance": [],
      "authorship_tag": "ABX9TyPq5dIZbm6bnqNQhMJxrux+",
      "include_colab_link": true
    },
    "kernelspec": {
      "name": "python3",
      "display_name": "Python 3"
    },
    "language_info": {
      "name": "python"
    }
  },
  "cells": [
    {
      "cell_type": "markdown",
      "metadata": {
        "id": "view-in-github",
        "colab_type": "text"
      },
      "source": [
        "<a href=\"https://colab.research.google.com/github/PabloLarreta17/ProgramacionOO/blob/main/Unidad3/Cambios.ipynb\" target=\"_parent\"><img src=\"https://colab.research.google.com/assets/colab-badge.svg\" alt=\"Open In Colab\"/></a>"
      ]
    },
    {
      "cell_type": "code",
      "execution_count": 1,
      "metadata": {
        "id": "1WDJUS3uCCDC"
      },
      "outputs": [],
      "source": [
        "class Persona:\n",
        "  def __init__(self,nombre,correo,fecha_nacimiento):\n",
        "    self.nombre=nombre\n",
        "    self.correo=correo\n",
        "    self.fecha_nacimiento=fecha_nacimiento\n",
        "  def mostrar_info(self):\n",
        "    print(f\"Nombre:{self.nombre} | Correo:{self.correo}| Fecha de Nacimiento:{self.fecha_nacimiento}\")\n"
      ]
    },
    {
      "cell_type": "code",
      "source": [
        "#subclase trabajador\n",
        "class Trabajador(Persona):\n",
        "  def __init__(self,num_trabajador,nombre,correo,fecha_nacimienot,departamento,usuario,contraseña):\n",
        "    super().__init__(nombre,correo,fecha_nacimienot)#Hereda atributos de personas\n",
        "    self.num_trabajador = num_trabajador\n",
        "    self.departamento = departamento\n",
        "    self.usuario = usuario\n",
        "    self.contraseña = contraseña\n",
        "\n",
        "  def mostrar_info(self):\n",
        "    return(f\"[Trabajador]{super().mostrar_info()}\"\n",
        "    f\"Numero Trabajador: {self.num_trabajador}, Departamento: {self.departamento},\"\n",
        "    f\"Usuario:{self.usuario}\")"
      ],
      "metadata": {
        "id": "ozv33rr1FPTW"
      },
      "execution_count": 3,
      "outputs": []
    },
    {
      "cell_type": "code",
      "source": [],
      "metadata": {
        "id": "RzY5bRFtGzFF"
      },
      "execution_count": null,
      "outputs": []
    }
  ]
}